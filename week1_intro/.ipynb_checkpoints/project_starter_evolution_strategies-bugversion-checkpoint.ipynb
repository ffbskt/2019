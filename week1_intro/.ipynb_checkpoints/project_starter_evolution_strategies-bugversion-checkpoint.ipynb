{
 "cells": [
  {
   "cell_type": "markdown",
   "metadata": {},
   "source": [
    "### Project :: Evolution Strategies\n",
    "\n",
    "![img](https://t4.ftcdn.net/jpg/00/17/46/81/240_F_17468143_wY3hsHyfNYoMdG9BlC56HI4JA7pNu63h.jpg)\n",
    "\n",
    "Remember the idea behind Evolution Strategies? Here's a neat [blog post](https://blog.openai.com/evolution-strategies/) about 'em.\n",
    "\n",
    "Can you reproduce their success? You will have to implement evolutionary strategies and see how they work.\n",
    "\n",
    "This project is optional; has several milestones each worth a number of points [and swag].\n",
    "\n",
    "__Milestones:__\n",
    "* [10pts] Basic prototype of evolutionary strategies that works in one thread on CartPole\n",
    "* [+5pts] Modify the code to make them work in parallel\n",
    "* [+5pts] if you can run ES distributedly on at least two PCs\n",
    "* [+10pts] Apply ES to play Atari Pong at least better than random\n",
    "* [++] Additional points for all kinds of cool stuff besides milestones\n",
    "\n",
    "__Rules:__\n",
    "\n",
    "* This is __not a mandatory assignment__, but it's a way to learn some cool things if you're getting bored with default assignments.\n",
    "* Once you decided to take on this project, please tell any of course staff members so that we can help ypu if you get stuck.\n",
    "* There's a default implementation of ES in this [openai repo](https://github.com/openai/evolution-strategies-starter). It's okay to look there if you get stuck or want to compare your solutions, but each copy-pasted chunk of code should be understood thoroughly. We'll test that with questions."
   ]
  },
  {
   "cell_type": "markdown",
   "metadata": {},
   "source": [
    "### Tips on implementation\n",
    "\n",
    "* It would be very convenient later if you implemented a function that takes policy weights, generates a session and returns policy changes -- so that you could then run a bunch of them in parallel.\n",
    "\n",
    "* The simplest way you can do multiprocessing is to use [joblib](https://www.google.com/search?client=ubuntu&channel=fs&q=joblib&ie=utf-8&oe=utf-8)\n",
    "\n",
    "* For joblib, make sure random variables are independent in each job. Simply add `np.random.seed()` at the beginning of your \"job\" function.\n",
    "\n",
    "Later once you got distributed, you may need a storage that gathers gradients from all workers. In such case we recommend [Redis](https://redis.io/) due to it's simplicity.\n",
    "\n",
    "Here's a speed-optimized saver/loader to store numpy arrays in Redis as strings.\n",
    "\n"
   ]
  },
  {
   "cell_type": "markdown",
   "metadata": {},
   "source": [
    "## Conclusion\n",
    "time with joblib for Cart poll not too better in my implementation and model study fast and easy with wide range of parametrs\n"
   ]
  },
  {
   "cell_type": "markdown",
   "metadata": {},
   "source": [
    "## Create model with torch"
   ]
  },
  {
   "cell_type": "code",
   "execution_count": 45,
   "metadata": {},
   "outputs": [],
   "source": [
    "import gym\n",
    "import numpy as np\n",
    "import torch\n",
    "import torchvision\n",
    "import torchvision.transforms as transforms\n",
    "from time import time\n",
    "from copy import deepcopy\n",
    "import matplotlib.pyplot as plt\n",
    "%matplotlib inline"
   ]
  },
  {
   "cell_type": "code",
   "execution_count": 2,
   "metadata": {},
   "outputs": [
    {
     "data": {
      "text/plain": [
       "<torch._C.Generator at 0x7f64200f47d0>"
      ]
     },
     "execution_count": 2,
     "metadata": {},
     "output_type": "execute_result"
    }
   ],
   "source": [
    "seed = 42\n",
    "np.random.seed(seed)\n",
    "torch.manual_seed(seed)"
   ]
  },
  {
   "cell_type": "code",
   "execution_count": 9,
   "metadata": {
    "scrolled": true
   },
   "outputs": [
    {
     "name": "stderr",
     "output_type": "stream",
     "text": [
      "/home/denis/anaconda3/envs/tourch_gym/lib/python3.7/site-packages/gym/envs/registration.py:14: PkgResourcesDeprecationWarning: Parameters to load are deprecated.  Call .resolve and .require separately.\n",
      "  result = entry_point.load(False)\n"
     ]
    }
   ],
   "source": [
    "env = gym.make('CartPole-v0')"
   ]
  },
  {
   "cell_type": "code",
   "execution_count": 10,
   "metadata": {},
   "outputs": [],
   "source": [
    "class SimpleDense(torch.nn.Module):\n",
    "    \n",
    "    #Our batch shape for input x is (3, 32, 32)\n",
    "    \n",
    "    def __init__(self, n_actions=2, obs_shape=4):\n",
    "        super(SimpleDense, self).__init__()\n",
    "        \n",
    "        self.fc1 = torch.nn.Linear(obs_shape, 8)\n",
    "        self.fc2 = torch.nn.Linear(8, n_actions)\n",
    "        self.softmax = torch.nn.Softmax(1)\n",
    "        \n",
    "    def forward(self, x):\n",
    "        x = torch.from_numpy(x.reshape(1, 4)).float()\n",
    "        \n",
    "        x = self.fc1(x)\n",
    "        x = self.fc2(x)\n",
    "        x = self.softmax(x)\n",
    "        return torch.argmax(x).numpy()\n",
    "    \n",
    "    def get_weights(self):\n",
    "        \"\"\"conv, fc1, fc2\"\"\"\n",
    "        return self.fc1.weight, self.fc2.weight\n",
    "    \n",
    "    def assign_weights(self, fc1, fc2):\n",
    "        \"\"\"input tensor\"\"\"\n",
    "        self.fc1.weight = torch.nn.Parameter(fc1)\n",
    "        self.fc2.weight = torch.nn.Parameter(fc2)"
   ]
  },
  {
   "cell_type": "code",
   "execution_count": 11,
   "metadata": {},
   "outputs": [
    {
     "name": "stdout",
     "output_type": "stream",
     "text": [
      "0\n"
     ]
    }
   ],
   "source": [
    "# Model work\n",
    "model = SimpleDense()\n",
    "act = model.forward(env.reset())\n",
    "print(act)"
   ]
  },
  {
   "cell_type": "code",
   "execution_count": 12,
   "metadata": {},
   "outputs": [],
   "source": [
    "def play_game(model, env, n=100, render=False):\n",
    "    s = env.reset()\n",
    "    reward_history = []\n",
    "    for i in range(n):\n",
    "        if render:\n",
    "            env.render()\n",
    "        s,r,done, _ = env.step(model.forward(s))\n",
    "        reward_history.append(r)\n",
    "        if done:\n",
    "            #print('done')\n",
    "            #break\n",
    "            s = env.reset()\n",
    "            reward_history.append(-10.0)\n",
    "    return reward_history\n",
    "\n"
   ]
  },
  {
   "cell_type": "code",
   "execution_count": 27,
   "metadata": {},
   "outputs": [],
   "source": [
    "\n",
    "\n",
    "def get_update(w1, w2, sigma, model, env, n_games=10):\n",
    "    jit1 = sigma * torch.rand_like(w1)\n",
    "    jit2 = sigma * torch.rand_like(w2)\n",
    "    model.assign_weights(w1 + jit1, w2 + jit2)\n",
    "    reward = np.sum(play_game(model, env, n_games))\n",
    "    return jit1, jit2, reward\n",
    "    "
   ]
  },
  {
   "cell_type": "code",
   "execution_count": 14,
   "metadata": {},
   "outputs": [
    {
     "data": {
      "text/plain": [
       "(tensor([[0.0076, 0.0225, 0.0062, 0.0182],\n",
       "         [0.1000, 0.0594, 0.0654, 0.0034],\n",
       "         [0.0172, 0.0334, 0.0578, 0.0060],\n",
       "         [0.0285, 0.0201, 0.0501, 0.0314],\n",
       "         [0.0465, 0.0161, 0.0157, 0.0208],\n",
       "         [0.0329, 0.0105, 0.0919, 0.0401],\n",
       "         [0.0930, 0.0656, 0.0077, 0.0846],\n",
       "         [0.0362, 0.0308, 0.0085, 0.0003]]),\n",
       " tensor([[0.0643, 0.0391, 0.0695, 0.0090, 0.0871, 0.0133, 0.0414, 0.0604],\n",
       "         [0.0758, 0.0904, 0.0955, 0.0104, 0.0626, 0.0285, 0.0445, 0.0126]]),\n",
       " 0.0)"
      ]
     },
     "execution_count": 14,
     "metadata": {},
     "output_type": "execute_result"
    }
   ],
   "source": [
    "w1 = torch.rand_like(model.fc1.weight)\n",
    "w2 = torch.rand_like(model.fc2.weight)\n",
    "\n",
    "get_update(w1, w2, 0.1, model, env) # return jiiter which add to w and reward"
   ]
  },
  {
   "cell_type": "code",
   "execution_count": 103,
   "metadata": {},
   "outputs": [
    {
     "name": "stdout",
     "output_type": "stream",
     "text": [
      "fin epoch  0 -0.40689516067504883\n",
      "fin epoch  1 -0.8003749847412109\n",
      "fin epoch  2 -1.186814546585083\n",
      "fin epoch  3 -1.57212495803833\n",
      "fin epoch  4 -1.9522826671600342\n",
      "fin epoch  5 -2.3319194316864014\n",
      "fin epoch  6 -2.7138020992279053\n",
      "fin epoch  7 -3.0945205688476562\n",
      "fin epoch  8 -3.476806402206421\n",
      "fin epoch  9 -3.859426736831665\n"
     ]
    }
   ],
   "source": [
    "from time import time\n",
    "\n",
    "n_games = 100\n",
    "n = 40\n",
    "epoch = 10\n",
    "sigma = 0.5\n",
    "lern_rate = 0.2\n",
    "\n",
    "try:\n",
    "    hist_reward.print\n",
    "except:\n",
    "    hist_reward = []\n",
    "    w1 = torch.rand_like(model.fc1.weight)\n",
    "    w2 = torch.rand_like(model.fc2.weight)\n",
    "shape1 = list(w1.shape)\n",
    "shape2 = list(w2.shape)\n",
    "shape1.append(n)\n",
    "shape2.append(n)\n",
    "w1_stack = torch.zeros(shape1)\n",
    "w2_stack = torch.zeros(shape2)\n",
    "reward_stack = torch.zeros(n)\n",
    "\n",
    "#assert 1==2\n",
    "#models = []\n",
    "#for i in range(n):\n",
    "#    models.append(SimpleDense())\n",
    "\n",
    "t = time()    \n",
    "for j in range(epoch):\n",
    "    for i in range(n):\n",
    "        #[w1_stack[:,:,i], w2_stack[:,:,i]]\n",
    "        res, reward_stack[i] = get_update([w1, w2], sigma, SimpleDense(), env, n_games)\n",
    "        [w1_stack[:,:,i], w2_stack[:,:,i]] = res \n",
    "    #joblib part look something like this but work only on .py file here error \"core dump\"\n",
    "    #maybe I to stupid to paralel better, but advantage on 4 jobs less then 50%\n",
    "    #res = Parallel(n_jobs=4)(delayed(get_update)(w1, w2, sigma, models[i], env, n_games) for i in range(n))\n",
    "    #for i in range(n):\n",
    "    #    w1_stack[:,:,i], w2_stack[:,:,i], reward_stack[i] = res[i]\n",
    "    \n",
    "    A = (reward_stack - torch.mean(reward_stack)) / (torch.std(reward_stack) + 1e-9)\n",
    "    w1 += lern_rate * torch.matmul(w1_stack, A) \n",
    "    w2 += lern_rate * torch.matmul(w2_stack, A)\n",
    "    hist_reward.append(sum(reward_stack))\n",
    "    print('fin epoch ', j, t - time())\n",
    "    "
   ]
  },
  {
   "cell_type": "code",
   "execution_count": 104,
   "metadata": {},
   "outputs": [
    {
     "data": {
      "text/plain": [
       "[<matplotlib.lines.Line2D at 0x7f63ab3968d0>]"
      ]
     },
     "execution_count": 104,
     "metadata": {},
     "output_type": "execute_result"
    },
    {
     "data": {
      "image/png": "[encoded data removed]",
      "text/plain": [
       "<Figure size 432x288 with 1 Axes>"
      ]
     },
     "metadata": {
      "needs_background": "light"
     },
     "output_type": "display_data"
    }
   ],
   "source": [
    "\n",
    "plt.plot(hist_reward)"
   ]
  },
  {
   "cell_type": "markdown",
   "metadata": {},
   "source": [
    "## Check results"
   ]
  },
  {
   "cell_type": "code",
   "execution_count": 15,
   "metadata": {},
   "outputs": [
    {
     "data": {
      "text/plain": [
       "[1.0,\n",
       " 1.0,\n",
       " 1.0,\n",
       " 1.0,\n",
       " 1.0,\n",
       " 1.0,\n",
       " 1.0,\n",
       " 1.0,\n",
       " 1.0,\n",
       " 1.0,\n",
       " 1.0,\n",
       " 1.0,\n",
       " 1.0,\n",
       " 1.0,\n",
       " 1.0,\n",
       " 1.0,\n",
       " 1.0,\n",
       " 1.0,\n",
       " 1.0,\n",
       " 1.0,\n",
       " 1.0,\n",
       " 1.0,\n",
       " 1.0,\n",
       " 1.0,\n",
       " 1.0,\n",
       " 1.0,\n",
       " 1.0,\n",
       " 1.0,\n",
       " 1.0,\n",
       " 1.0,\n",
       " 1.0,\n",
       " 1.0,\n",
       " 1.0,\n",
       " 1.0,\n",
       " 1.0,\n",
       " 1.0,\n",
       " 1.0,\n",
       " 1.0,\n",
       " 1.0,\n",
       " 1.0,\n",
       " 1.0,\n",
       " 1.0,\n",
       " 1.0,\n",
       " 1.0,\n",
       " 1.0,\n",
       " 1.0,\n",
       " 1.0,\n",
       " 1.0,\n",
       " 1.0,\n",
       " 1.0,\n",
       " 1.0,\n",
       " 1.0,\n",
       " 1.0,\n",
       " 1.0,\n",
       " 1.0,\n",
       " 1.0,\n",
       " 1.0,\n",
       " 1.0,\n",
       " 1.0,\n",
       " 1.0,\n",
       " 1.0,\n",
       " 1.0,\n",
       " 1.0,\n",
       " 1.0,\n",
       " 1.0,\n",
       " 1.0,\n",
       " 1.0,\n",
       " 1.0,\n",
       " 1.0,\n",
       " 1.0,\n",
       " 1.0,\n",
       " 1.0,\n",
       " 1.0,\n",
       " 1.0,\n",
       " 1.0,\n",
       " 1.0,\n",
       " 1.0,\n",
       " 1.0,\n",
       " 1.0,\n",
       " 1.0,\n",
       " 1.0,\n",
       " 1.0,\n",
       " 1.0,\n",
       " 1.0,\n",
       " 1.0,\n",
       " 1.0,\n",
       " 1.0,\n",
       " 1.0,\n",
       " 1.0,\n",
       " 1.0,\n",
       " 1.0,\n",
       " 1.0,\n",
       " 1.0,\n",
       " 1.0,\n",
       " 1.0,\n",
       " 1.0,\n",
       " 1.0,\n",
       " 1.0,\n",
       " 1.0,\n",
       " 1.0,\n",
       " 1.0,\n",
       " 1.0,\n",
       " 1.0,\n",
       " 1.0,\n",
       " 1.0,\n",
       " 1.0,\n",
       " 1.0,\n",
       " 1.0,\n",
       " 1.0,\n",
       " 1.0,\n",
       " 1.0,\n",
       " 1.0,\n",
       " 1.0,\n",
       " 1.0,\n",
       " 1.0,\n",
       " 1.0,\n",
       " 1.0,\n",
       " 1.0,\n",
       " 1.0,\n",
       " 1.0,\n",
       " 1.0,\n",
       " 1.0,\n",
       " 1.0,\n",
       " 1.0,\n",
       " 1.0,\n",
       " 1.0,\n",
       " 1.0,\n",
       " 1.0,\n",
       " 1.0,\n",
       " 1.0,\n",
       " 1.0,\n",
       " 1.0,\n",
       " 1.0,\n",
       " 1.0,\n",
       " 1.0,\n",
       " 1.0,\n",
       " 1.0,\n",
       " 1.0,\n",
       " 1.0,\n",
       " 1.0,\n",
       " 1.0,\n",
       " 1.0,\n",
       " 1.0,\n",
       " 1.0,\n",
       " 1.0,\n",
       " 1.0,\n",
       " 1.0,\n",
       " 1.0,\n",
       " 1.0,\n",
       " 1.0,\n",
       " 1.0,\n",
       " 1.0,\n",
       " 1.0,\n",
       " 1.0,\n",
       " 1.0,\n",
       " 1.0,\n",
       " 1.0,\n",
       " 1.0,\n",
       " 1.0,\n",
       " 1.0,\n",
       " 1.0,\n",
       " 1.0,\n",
       " 1.0,\n",
       " 1.0,\n",
       " 1.0,\n",
       " 1.0,\n",
       " -10.0,\n",
       " 1.0,\n",
       " 1.0,\n",
       " 1.0,\n",
       " 1.0,\n",
       " 1.0,\n",
       " 1.0,\n",
       " 1.0,\n",
       " 1.0,\n",
       " 1.0,\n",
       " 1.0,\n",
       " 1.0,\n",
       " 1.0,\n",
       " 1.0,\n",
       " 1.0,\n",
       " 1.0,\n",
       " 1.0,\n",
       " 1.0,\n",
       " 1.0,\n",
       " 1.0,\n",
       " 1.0,\n",
       " 1.0,\n",
       " 1.0,\n",
       " 1.0,\n",
       " 1.0,\n",
       " 1.0,\n",
       " 1.0,\n",
       " 1.0,\n",
       " 1.0,\n",
       " 1.0,\n",
       " 1.0,\n",
       " 1.0,\n",
       " 1.0,\n",
       " 1.0,\n",
       " 1.0,\n",
       " 1.0,\n",
       " 1.0,\n",
       " 1.0,\n",
       " 1.0,\n",
       " 1.0,\n",
       " 1.0,\n",
       " 1.0,\n",
       " 1.0,\n",
       " 1.0,\n",
       " 1.0,\n",
       " 1.0,\n",
       " 1.0,\n",
       " 1.0,\n",
       " 1.0,\n",
       " 1.0,\n",
       " 1.0,\n",
       " 1.0,\n",
       " 1.0,\n",
       " 1.0,\n",
       " 1.0,\n",
       " 1.0,\n",
       " 1.0,\n",
       " 1.0,\n",
       " 1.0,\n",
       " 1.0,\n",
       " 1.0,\n",
       " 1.0,\n",
       " 1.0,\n",
       " 1.0,\n",
       " 1.0,\n",
       " 1.0,\n",
       " 1.0,\n",
       " 1.0,\n",
       " 1.0,\n",
       " 1.0,\n",
       " 1.0,\n",
       " 1.0,\n",
       " 1.0,\n",
       " 1.0,\n",
       " 1.0,\n",
       " 1.0,\n",
       " 1.0,\n",
       " 1.0,\n",
       " 1.0,\n",
       " 1.0,\n",
       " 1.0,\n",
       " 1.0,\n",
       " 1.0,\n",
       " 1.0,\n",
       " 1.0,\n",
       " 1.0,\n",
       " 1.0,\n",
       " 1.0,\n",
       " 1.0,\n",
       " 1.0,\n",
       " 1.0,\n",
       " 1.0,\n",
       " 1.0,\n",
       " 1.0,\n",
       " 1.0,\n",
       " 1.0,\n",
       " 1.0,\n",
       " 1.0,\n",
       " 1.0,\n",
       " 1.0,\n",
       " 1.0,\n",
       " 1.0,\n",
       " 1.0,\n",
       " 1.0,\n",
       " 1.0,\n",
       " 1.0,\n",
       " 1.0,\n",
       " 1.0,\n",
       " 1.0,\n",
       " 1.0,\n",
       " 1.0,\n",
       " 1.0,\n",
       " 1.0,\n",
       " 1.0,\n",
       " 1.0,\n",
       " 1.0,\n",
       " 1.0,\n",
       " 1.0,\n",
       " 1.0,\n",
       " 1.0,\n",
       " 1.0,\n",
       " 1.0,\n",
       " 1.0,\n",
       " 1.0,\n",
       " 1.0,\n",
       " 1.0,\n",
       " 1.0,\n",
       " 1.0,\n",
       " 1.0,\n",
       " 1.0,\n",
       " 1.0,\n",
       " 1.0,\n",
       " 1.0,\n",
       " 1.0,\n",
       " 1.0]"
      ]
     },
     "execution_count": 15,
     "metadata": {},
     "output_type": "execute_result"
    }
   ],
   "source": [
    "# if results not good run learning block one more time or change n.\n",
    "model = SimpleDense()\n",
    "model.assign_weights(w1, w2)\n",
    "play_game(model, env,n=300, render=True)"
   ]
  },
  {
   "cell_type": "markdown",
   "metadata": {},
   "source": [
    "# Try study on Atari"
   ]
  },
  {
   "cell_type": "code",
   "execution_count": null,
   "metadata": {},
   "outputs": [],
   "source": [
    "import joblib\n",
    "from six import BytesIO\n",
    "def dumps(data):\n",
    "    \"\"\"converts whatever to string\"\"\"\n",
    "    s = BytesIO()\n",
    "    joblib.dump(data,s)\n",
    "    return s.getvalue()\n",
    "        \n",
    "def loads(self,string):\n",
    "    \"\"\"converts string to whatever was dumps'ed in it\"\"\"\n",
    "    return joblib.load(BytesIO(string))\n"
   ]
  },
  {
   "cell_type": "markdown",
   "metadata": {},
   "source": [
    "### Tips on atari games\n",
    "* There's all the pre-processing and tuning done for you in the code below\n",
    "    * Images rescaled to 42x42 to speed up computation\n",
    "    * We use last 4 frames as observations to account for ball velocity\n",
    "    * The code below requires ```pip install Image``` and ```pip install gym[atari]``` \n",
    "    * You may also need some dependencies for gym[atari] - google \"gym install all\" dependencies or use our pre-built environment.\n",
    "* The recommended agent architecture is a convolutional neural network. Dense network will also do.\n",
    "\n",
    "\n",
    "May the force be with you!"
   ]
  },
  {
   "cell_type": "code",
   "execution_count": 4,
   "metadata": {},
   "outputs": [
    {
     "name": "stderr",
     "output_type": "stream",
     "text": [
      "/home/denis/anaconda3/envs/tourch_gym/lib/python3.7/site-packages/gym/envs/registration.py:14: PkgResourcesDeprecationWarning: Parameters to load are deprecated.  Call .resolve and .require separately.\n",
      "  result = entry_point.load(False)\n"
     ]
    },
    {
     "name": "stdout",
     "output_type": "stream",
     "text": [
      "\u001b[33mWARN: gym.spaces.Box autodetected dtype as <class 'numpy.float32'>. Please provide explicit dtype.\u001b[0m\n",
      "Discrete(6)\n"
     ]
    }
   ],
   "source": [
    "from pong import make_pong\n",
    "import numpy as np\n",
    "\n",
    "env = make_pong()\n",
    "print(env.action_space)"
   ]
  },
  {
   "cell_type": "code",
   "execution_count": 5,
   "metadata": {},
   "outputs": [
    {
     "data": {
      "text/plain": [
       "(4, 6)"
      ]
     },
     "execution_count": 5,
     "metadata": {},
     "output_type": "execute_result"
    }
   ],
   "source": [
    "import random\n",
    "random.choice([1,3])\n",
    "p = env.action_space\n",
    "p.sample(), p.n"
   ]
  },
  {
   "cell_type": "code",
   "execution_count": 6,
   "metadata": {},
   "outputs": [],
   "source": [
    "from torch.autograd import Variable\n",
    "import torch.nn.functional as F\n",
    "\n",
    "class SimpleCNN(torch.nn.Module):\n",
    "    \n",
    "    #Our batch shape for input x is (3, 32, 32)\n",
    "    \n",
    "    def __init__(self, n_actions=6):\n",
    "        super(SimpleCNN, self).__init__()\n",
    "        \n",
    "        self.conv1 = torch.nn.Conv2d(4, 6, kernel_size=3, stride=1, padding=1)\n",
    "        self.pool = torch.nn.MaxPool2d(kernel_size=2, stride=2, padding=0)\n",
    "        \n",
    "        self.fc1 = torch.nn.Linear(6 * 21 * 21, 64)\n",
    "        \n",
    "        #64 input features, 10 output features for our 10 defined classes\n",
    "        self.fc2 = torch.nn.Linear(64, n_actions)\n",
    "        self.softmax = torch.nn.Softmax(1)\n",
    "        \n",
    "    def forward(self, x):\n",
    "        \n",
    "        x = F.relu(self.conv1(x))\n",
    "        x = self.pool(x)\n",
    "        x = x.view(-1, 6 * 21 * 21)       \n",
    "        x = F.relu(self.fc1(x))\n",
    "        x = self.fc2(x)\n",
    "        x = self.softmax(x)\n",
    "        return(x)\n",
    "    \n",
    "    "
   ]
  },
  {
   "cell_type": "code",
   "execution_count": 47,
   "metadata": {},
   "outputs": [],
   "source": [
    "def init_source_weights(model_class, n):\n",
    "    model = model_class()\n",
    "    source_weights = []\n",
    "    for weight in model.get_weights():\n",
    "        source_weights.append(deepcopy(weight))\n",
    "    return source_weights\n",
    "\n",
    "def create_jiters_stacks(source_weights, n):\n",
    "    stacks = []\n",
    "    for weight in source_weights:\n",
    "        shape = list(weight.shape)\n",
    "        shape.append(n)\n",
    "        stacks.append(torch.zeros(shape))\n",
    "    return stacks\n",
    "    \n",
    "\n",
    "def get_update(source_weights, sigma, model, env, n_games=10):\n",
    "    jitters = []\n",
    "    for i, weight in enumerate(model.get_weights()):\n",
    "        jitters.append(sigma * torch.rand_like(weight))\n",
    "        weight.data = source_weights[i] + jitters[-1]\n",
    "    reward = np.sum(play_game(model, env, n_games))\n",
    "    \n",
    "    return jitters, reward"
   ]
  },
  {
   "cell_type": "code",
   "execution_count": null,
   "metadata": {},
   "outputs": [],
   "source": []
  },
  {
   "cell_type": "code",
   "execution_count": null,
   "metadata": {},
   "outputs": [],
   "source": []
  },
  {
   "cell_type": "code",
   "execution_count": 101,
   "metadata": {},
   "outputs": [
    {
     "name": "stdout",
     "output_type": "stream",
     "text": [
      "fin epoch  0 -0.3903064727783203\n",
      "fin epoch  1 -0.7766344547271729\n",
      "fin epoch  2 -1.1638290882110596\n",
      "fin epoch  3 -1.5492405891418457\n",
      "fin epoch  4 -1.9351019859313965\n",
      "fin epoch  5 -2.3215043544769287\n",
      "fin epoch  6 -2.7056565284729004\n",
      "fin epoch  7 -3.0922932624816895\n",
      "fin epoch  8 -3.477818727493286\n",
      "fin epoch  9 -3.864119291305542\n"
     ]
    }
   ],
   "source": [
    "from time import time\n",
    "\n",
    "n_games = 100\n",
    "n = 40\n",
    "epoch = 10\n",
    "sigma = 0.5\n",
    "lern_rate = 0.2\n",
    "net_class = SimpleDense#SimpleCNN\n",
    "\n",
    "try:\n",
    "    hist_reward.print\n",
    "except:\n",
    "    hist_reward = []\n",
    "    source_weights = init_source_weights(net_class, n)\n",
    "\n",
    "jitter_stacks = create_jiters_stacks(source_weights, n)\n",
    "reward_stack = torch.zeros(n)\n",
    "\n",
    "#models = []\n",
    "#for i in range(n):\n",
    "#    models.append(SimpleDense())\n",
    "\n",
    "t = time()    \n",
    "for j in range(epoch):\n",
    "    for i in range(n):\n",
    "        res, reward_stack[i] = get_update(source_weights, sigma, net_class(), env, n_games)\n",
    "        for ind_jit, jiter in enumerate(res):\n",
    "            jitter_stacks[ind_jit][:,:,i] = jiter\n",
    "    \n",
    "    #joblib part look something like this but work only on .py file here error \"core dump\"\n",
    "    #maybe I to stupid to paralel better, but advantage on 4 jobs less then 50%\n",
    "    #res = Parallel(n_jobs=4)(delayed(get_update)(w1, w2, sigma, models[i], env, n_games) for i in range(n))\n",
    "    #for i in range(n):\n",
    "    #    w1_stack[:,:,i], w2_stack[:,:,i], reward_stack[i] = res[i]\n",
    "    \n",
    "    A = (reward_stack - torch.mean(reward_stack)) / (torch.std(reward_stack) + 1e-9)\n",
    "    for ind, weight in enumerate(source_weights):\n",
    "        source_weights[ind] = weight + lern_rate * torch.matmul(jitter_stacks[ind], A) \n",
    "    #w1 += lern_rate * torch.matmul(w1_stack, A) \n",
    "    #w2 += lern_rate * torch.matmul(w2_stack, A)\n",
    "    hist_reward.append(sum(reward_stack))\n",
    "    print('fin epoch ', j, t - time())"
   ]
  },
  {
   "cell_type": "code",
   "execution_count": 102,
   "metadata": {},
   "outputs": [
    {
     "data": {
      "text/plain": [
       "[<matplotlib.lines.Line2D at 0x7f63ab43ca90>]"
      ]
     },
     "execution_count": 102,
     "metadata": {},
     "output_type": "execute_result"
    },
    {
     "data": {
      "image/png": "[encoded data removed]",
      "text/plain": [
       "<Figure size 432x288 with 1 Axes>"
      ]
     },
     "metadata": {
      "needs_background": "light"
     },
     "output_type": "display_data"
    }
   ],
   "source": [
    "\n",
    "plt.plot(hist_reward)"
   ]
  },
  {
   "cell_type": "code",
   "execution_count": 82,
   "metadata": {},
   "outputs": [
    {
     "data": {
      "text/plain": [
       "[2, 3, 4]"
      ]
     },
     "execution_count": 82,
     "metadata": {},
     "output_type": "execute_result"
    }
   ],
   "source": [
    "j = [1,2,3]\n",
    "for i, v in enumerate(j):\n",
    "    j[i] = v + 1\n",
    "j"
   ]
  },
  {
   "cell_type": "code",
   "execution_count": null,
   "metadata": {},
   "outputs": [],
   "source": []
  },
  {
   "cell_type": "code",
   "execution_count": null,
   "metadata": {},
   "outputs": [],
   "source": []
  },
  {
   "cell_type": "code",
   "execution_count": null,
   "metadata": {},
   "outputs": [],
   "source": []
  },
  {
   "cell_type": "code",
   "execution_count": null,
   "metadata": {},
   "outputs": [],
   "source": []
  },
  {
   "cell_type": "code",
   "execution_count": null,
   "metadata": {},
   "outputs": [],
   "source": [
    "A = (reward_stack - torch.mean(reward_stack)) / (torch.std(reward_stack) + 1e-9)\n",
    "w1 += lern_rate * torch.matmul(w1_stack, A) "
   ]
  },
  {
   "cell_type": "code",
   "execution_count": null,
   "metadata": {},
   "outputs": [],
   "source": [
    "#torch.tensor()\n",
    "r = np.ones(4) * 10\n",
    "a = np.random.rand(2,3,4)\n",
    "#torch.tensor(r)*torch.tensor(a)\n",
    "#a,r, a * r \n",
    "torch.matmul(torch.tensor(a),torch.tensor(r)), a, r"
   ]
  },
  {
   "cell_type": "code",
   "execution_count": null,
   "metadata": {},
   "outputs": [],
   "source": [
    "shape1#.append(n).extend(list(w1.shape))\n",
    "reward_stack, A"
   ]
  },
  {
   "cell_type": "code",
   "execution_count": null,
   "metadata": {},
   "outputs": [],
   "source": [
    "n_actions = env.action_space.n\n",
    "#s = env.reset()\n",
    "#env.step(1)\n",
    "env.observation_space.shape"
   ]
  },
  {
   "cell_type": "markdown",
   "metadata": {},
   "source": [
    "### Other sourced notebook"
   ]
  },
  {
   "cell_type": "code",
   "execution_count": null,
   "metadata": {},
   "outputs": [],
   "source": [
    "#get the initial state\n",
    "s = env.reset()\n",
    "print(s.shape)"
   ]
  },
  {
   "cell_type": "code",
   "execution_count": null,
   "metadata": {},
   "outputs": [],
   "source": [
    "import matplotlib.pyplot as plt\n",
    "%matplotlib inline\n",
    "#plot first observation. Only one frame\n",
    "plt.imshow(s.swapaxes(1,2).reshape(-1,s.shape[-1]).T)"
   ]
  },
  {
   "cell_type": "code",
   "execution_count": null,
   "metadata": {},
   "outputs": [],
   "source": [
    "done"
   ]
  },
  {
   "cell_type": "code",
   "execution_count": null,
   "metadata": {},
   "outputs": [],
   "source": [
    "#next frame\n",
    "new_s,r,done, _ = env.step(env.action_space.sample())\n",
    "plt.imshow(new_s.swapaxes(1,2).reshape(-1,s.shape[-1]).T)"
   ]
  },
  {
   "cell_type": "code",
   "execution_count": null,
   "metadata": {},
   "outputs": [],
   "source": [
    "#after 10 frames\n",
    "for _ in range(10):\n",
    "    new_s,r,done, _ = env.step(env.action_space.sample())\n",
    "\n",
    "plt.imshow(new_s.swapaxes(1,2).reshape(-1,s.shape[-1]).T,vmin=0)"
   ]
  },
  {
   "cell_type": "code",
   "execution_count": null,
   "metadata": {},
   "outputs": [],
   "source": [
    "< tons of your code here or elsewhere >"
   ]
  },
  {
   "cell_type": "code",
   "execution_count": null,
   "metadata": {},
   "outputs": [],
   "source": []
  },
  {
   "cell_type": "code",
   "execution_count": null,
   "metadata": {},
   "outputs": [],
   "source": []
  },
  {
   "cell_type": "code",
   "execution_count": null,
   "metadata": {},
   "outputs": [],
   "source": []
  }
 ],
 "metadata": {
  "kernelspec": {
   "display_name": "Python [conda env:tourch_gym]",
   "language": "python",
   "name": "conda-env-tourch_gym-py"
  },
  "language_info": {
   "codemirror_mode": {
    "name": "ipython",
    "version": 3
   },
   "file_extension": ".py",
   "mimetype": "text/x-python",
   "name": "python",
   "nbconvert_exporter": "python",
   "pygments_lexer": "ipython3",
   "version": "3.7.2"
  }
 },
 "nbformat": 4,
 "nbformat_minor": 2
}
